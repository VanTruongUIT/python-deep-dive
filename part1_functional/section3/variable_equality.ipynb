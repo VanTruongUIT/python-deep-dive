{
 "cells": [
  {
   "attachments": {},
   "cell_type": "markdown",
   "metadata": {},
   "source": [
    "There are two types of way to compare two objects are equal or not\n",
    "* Compare memory address\n",
    "    * Using the `is` key world\n",
    "* Compare internal state (data)\n",
    "    * Using `==` operator"
   ]
  },
  {
   "attachments": {},
   "cell_type": "markdown",
   "metadata": {},
   "source": [
    "None is the real object -> And every variable was assigned to None -> Alway using the share references, it was managed by memory management in python"
   ]
  },
  {
   "attachments": {},
   "cell_type": "markdown",
   "metadata": {},
   "source": [
    "What is interning?\n",
    "Interning: reusing objects on-demand\n",
    "At startup, Python (CPython), pre-loads (caches) a global list of integers in range of [-5, 256]\n",
    "Any time an integer is referenced in that range, Python will use the cached version of that object Singletons  Optimization strategy-small integers show often.\n",
    "\n",
    "When we write \n",
    "`\n",
    "a = 10\n",
    "`\n",
    "Python just has to point to the existing reference for 10"
   ]
  },
  {
   "cell_type": "markdown",
   "metadata": {},
   "source": []
  }
 ],
 "metadata": {
  "language_info": {
   "name": "python"
  },
  "orig_nbformat": 4
 },
 "nbformat": 4,
 "nbformat_minor": 2
}
