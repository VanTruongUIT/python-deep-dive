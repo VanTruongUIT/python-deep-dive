{
 "cells": [
  {
   "attachments": {},
   "cell_type": "markdown",
   "metadata": {},
   "source": [
    "There are two types of way to compare two objects are equal or not\n",
    "* Compare memory address\n",
    "    * Using the `is` key world\n",
    "* Compare internal state (data)\n",
    "    * Using `==` operator"
   ]
  },
  {
   "attachments": {},
   "cell_type": "markdown",
   "metadata": {},
   "source": [
    "None is the real object -> And every variable was assigned to None -> Alway using the share references, it was managed by memory management in python"
   ]
  },
  {
   "cell_type": "markdown",
   "metadata": {},
   "source": []
  }
 ],
 "metadata": {
  "language_info": {
   "name": "python"
  },
  "orig_nbformat": 4
 },
 "nbformat": 4,
 "nbformat_minor": 2
}
