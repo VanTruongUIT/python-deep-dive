{
 "cells": [
  {
   "attachments": {},
   "cell_type": "markdown",
   "metadata": {},
   "source": [
    "# A simple function timer"
   ]
  },
  {
   "cell_type": "code",
   "execution_count": 1,
   "metadata": {},
   "outputs": [],
   "source": [
    "import time"
   ]
  },
  {
   "cell_type": "code",
   "execution_count": 2,
   "metadata": {},
   "outputs": [],
   "source": [
    "def time_it(fun, *args, **kwargs):\n",
    "    print(args, kwargs)"
   ]
  },
  {
   "cell_type": "code",
   "execution_count": 3,
   "metadata": {},
   "outputs": [
    {
     "name": "stdout",
     "output_type": "stream",
     "text": [
      "(1, 2, 3) {'sep': ' - ', 'end': ' ***'}\n"
     ]
    }
   ],
   "source": [
    "time_it(print, 1, 2, 3, sep=' - ', end=' ***')"
   ]
  },
  {
   "cell_type": "code",
   "execution_count": 4,
   "metadata": {},
   "outputs": [],
   "source": [
    "def time_it(func, *args, **kwargs):\n",
    "    # here both args and kwargs are the positional argument -> args is not the postional argument and kwargs is the key-word argument\n",
    "    # so how to implement it correctly as expected.\n",
    "    func(args, kwargs)"
   ]
  },
  {
   "cell_type": "code",
   "execution_count": 5,
   "metadata": {},
   "outputs": [
    {
     "name": "stdout",
     "output_type": "stream",
     "text": [
      "(1, 2, 3) {'sep': ' - ', 'end': '***'}\n"
     ]
    }
   ],
   "source": [
    "time_it(print, 1, 2, 3, sep=' - ', end='***')"
   ]
  },
  {
   "cell_type": "code",
   "execution_count": 12,
   "metadata": {},
   "outputs": [],
   "source": [
    "def time_it(func, *args, **kwargs):\n",
    "    # we will unpack parameter to pass as positional and key-word arguments.\n",
    "    func(*args, **kwargs)"
   ]
  },
  {
   "cell_type": "code",
   "execution_count": 13,
   "metadata": {},
   "outputs": [
    {
     "name": "stdout",
     "output_type": "stream",
     "text": [
      "1 - 2 - 3***"
     ]
    }
   ],
   "source": [
    "time_it(print, 1, 2, 3, sep=' - ', end='***')"
   ]
  },
  {
   "cell_type": "code",
   "execution_count": 14,
   "metadata": {},
   "outputs": [],
   "source": [
    "def time_it(func, *args, **kwargs):\n",
    "    # we will unpack parameter to pass as positional and key-word arguments.\n",
    "    func(args, kwargs)"
   ]
  },
  {
   "cell_type": "code",
   "execution_count": 15,
   "metadata": {},
   "outputs": [
    {
     "name": "stdout",
     "output_type": "stream",
     "text": [
      "((1, 2, 3), {'sep': ' - ', 'end': '***'}) {}\n"
     ]
    }
   ],
   "source": [
    "time_it(print, (1, 2, 3), {\"sep\": ' - ', \"end\": '***'})"
   ]
  },
  {
   "cell_type": "code",
   "execution_count": 16,
   "metadata": {},
   "outputs": [
    {
     "name": "stdout",
     "output_type": "stream",
     "text": [
      "(1, 2, 3) {'sep': ' - ', 'end': '***'}\n"
     ]
    }
   ],
   "source": [
    "\n",
    "time_it(print, 1, 2, 3, sep=' - ', end='***')"
   ]
  },
  {
   "cell_type": "code",
   "execution_count": 17,
   "metadata": {},
   "outputs": [],
   "source": [
    "def time_it(func, *args, rep=1, **kwargs):\n",
    "    # we will unpack parameter to pass as positional and key-word arguments.\n",
    "    for i in range(rep):\n",
    "        func(*args, **kwargs)"
   ]
  },
  {
   "cell_type": "code",
   "execution_count": 20,
   "metadata": {},
   "outputs": [
    {
     "name": "stdout",
     "output_type": "stream",
     "text": [
      "1 - 2 - 3***\n"
     ]
    }
   ],
   "source": [
    "time_it(print, 1, 2, 3, sep=' - ', end='***\\n', rep=1)"
   ]
  },
  {
   "cell_type": "code",
   "execution_count": 19,
   "metadata": {},
   "outputs": [
    {
     "name": "stdout",
     "output_type": "stream",
     "text": [
      "1 - 2 - 3***\n",
      "1 - 2 - 3***\n",
      "1 - 2 - 3***\n",
      "1 - 2 - 3***\n",
      "1 - 2 - 3***\n",
      "1 - 2 - 3***\n",
      "1 - 2 - 3***\n",
      "1 - 2 - 3***\n",
      "1 - 2 - 3***\n",
      "1 - 2 - 3***\n"
     ]
    }
   ],
   "source": [
    "time_it(print, 1, 2, 3, rep=10, sep=' - ', end='***\\n')"
   ]
  },
  {
   "cell_type": "code",
   "execution_count": 21,
   "metadata": {},
   "outputs": [
    {
     "name": "stdout",
     "output_type": "stream",
     "text": [
      "1 - 2 - 3***\n",
      "1 - 2 - 3***\n",
      "1 - 2 - 3***\n",
      "1 - 2 - 3***\n",
      "1 - 2 - 3***\n"
     ]
    }
   ],
   "source": [
    "time_it(print, 1, 2, 3, sep=' - ', rep=5, end='***\\n')\n"
   ]
  },
  {
   "cell_type": "code",
   "execution_count": 22,
   "metadata": {},
   "outputs": [],
   "source": [
    "def compute_powers_1(n, *, start=1, end):\n",
    "    # using a for loop\n",
    "    results = []\n",
    "    for i in range(start, end):\n",
    "        results.append(n**i)\n",
    "        \n",
    "    return results"
   ]
  },
  {
   "cell_type": "code",
   "execution_count": 23,
   "metadata": {},
   "outputs": [
    {
     "data": {
      "text/plain": [
       "[2, 4, 8, 16]"
      ]
     },
     "execution_count": 23,
     "metadata": {},
     "output_type": "execute_result"
    }
   ],
   "source": [
    "compute_powers_1(2, end=5)"
   ]
  },
  {
   "cell_type": "code",
   "execution_count": 25,
   "metadata": {},
   "outputs": [
    {
     "data": {
      "text/plain": [
       "[5, 25, 125, 625]"
      ]
     },
     "execution_count": 25,
     "metadata": {},
     "output_type": "execute_result"
    }
   ],
   "source": [
    "compute_powers_1(5, start=1, end=5)"
   ]
  },
  {
   "cell_type": "code",
   "execution_count": 26,
   "metadata": {},
   "outputs": [],
   "source": [
    "def compute_powers_2(n, *, start=1, end):\n",
    "    # using list comprehension\n",
    "    return [n**i for i in range(start, end)]"
   ]
  },
  {
   "cell_type": "code",
   "execution_count": 27,
   "metadata": {},
   "outputs": [
    {
     "data": {
      "text/plain": [
       "[5, 25, 125, 625]"
      ]
     },
     "execution_count": 27,
     "metadata": {},
     "output_type": "execute_result"
    }
   ],
   "source": [
    "compute_powers_2(5, start=1, end=5)"
   ]
  },
  {
   "cell_type": "code",
   "execution_count": 28,
   "metadata": {},
   "outputs": [],
   "source": [
    "def compute_powers_3(n, *, start=1, end):\n",
    "    # using generator expression\n",
    "    return (n**i for i in range(start, end))"
   ]
  },
  {
   "cell_type": "code",
   "execution_count": 30,
   "metadata": {},
   "outputs": [
    {
     "data": {
      "text/plain": [
       "[5, 25, 125, 625]"
      ]
     },
     "execution_count": 30,
     "metadata": {},
     "output_type": "execute_result"
    }
   ],
   "source": [
    "list(compute_powers_3(5, start=1, end=5))\n"
   ]
  },
  {
   "cell_type": "code",
   "execution_count": null,
   "metadata": {},
   "outputs": [],
   "source": []
  }
 ],
 "metadata": {
  "kernelspec": {
   "display_name": "Python 3",
   "language": "python",
   "name": "python3"
  },
  "language_info": {
   "codemirror_mode": {
    "name": "ipython",
    "version": 3
   },
   "file_extension": ".py",
   "mimetype": "text/x-python",
   "name": "python",
   "nbconvert_exporter": "python",
   "pygments_lexer": "ipython3",
   "version": "3.7.1"
  },
  "orig_nbformat": 4,
  "vscode": {
   "interpreter": {
    "hash": "1f73e32cfb8da317e41c24dd6b51c1285eb289f4dfb4c0816a38bbadfd6d6c88"
   }
  }
 },
 "nbformat": 4,
 "nbformat_minor": 2
}
