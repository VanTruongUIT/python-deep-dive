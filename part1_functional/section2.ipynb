{
 "cells": [
  {
   "cell_type": "code",
   "execution_count": null,
   "metadata": {},
   "outputs": [],
   "source": [
    "def func_5():\n",
    "    return func_6();\n",
    "\n",
    "\n",
    "def func_6():\n",
    "    print(\"running func_6\")\n",
    "    \n",
    "func_5()"
   ]
  },
  {
   "cell_type": "markdown",
   "metadata": {},
   "source": [
    "#### While loop"
   ]
  },
  {
   "cell_type": "code",
   "execution_count": null,
   "metadata": {},
   "outputs": [],
   "source": [
    "min_length = 2\n",
    "\n",
    "name = input(\"Please enter your name: \")\n",
    "\n",
    "while not(len(name) >= min_length and name.isprintable() and name.isalpha()):\n",
    "    name = input(\"Please enter your name: \")\n",
    "\n",
    "print(f\"hello {name}\")"
   ]
  },
  {
   "cell_type": "code",
   "execution_count": null,
   "metadata": {},
   "outputs": [],
   "source": [
    "# But we can see in the above snipet code -> we repeat your code `name = input(\"Please enter your name: \")`\n",
    "# Now we can refactor it\n",
    "min_length = 2\n",
    "\n",
    "while True:\n",
    "    name = input(\"Please enter your name: \")\n",
    "    if (len(name) >= min_length and name.isprintable() and name.isalpha()):\n",
    "        break \n",
    "print(f\"Hello {name}\")"
   ]
  },
  {
   "cell_type": "code",
   "execution_count": 4,
   "metadata": {},
   "outputs": [
    {
     "name": "stdout",
     "output_type": "stream",
     "text": [
      "[1, 3, 5, 6, 10]\n"
     ]
    }
   ],
   "source": [
    "# while with else clause\n",
    "#\n",
    "while True:\n",
    "    if False:\n",
    "        pass \n",
    "    else:\n",
    "        break \n",
    "    \n",
    "else:\n",
    "    # else run only the while run without with break statement.\n",
    "    pass\n",
    "\n",
    "\n",
    "# Example\n",
    "\n",
    "\n",
    "lst = [1, 3, 5, 6]\n",
    "idx = 0\n",
    "value = 10\n",
    "\n",
    "while idx < len(lst):\n",
    "    if lst[idx] == value:\n",
    "        break\n",
    "    idx += 1\n",
    "else:\n",
    "    lst.append(value)\n",
    "    \n",
    "print(lst)"
   ]
  },
  {
   "cell_type": "code",
   "execution_count": 6,
   "metadata": {},
   "outputs": [
    {
     "name": "stdout",
     "output_type": "stream",
     "text": [
      "1 - 1 Always run in try...except statement\n",
      "1 - 1 Main flow of while loop\n",
      "2 - 0 Interupt with error: division by zero\n",
      "2 - 0 Always run in try...except statement\n"
     ]
    }
   ],
   "source": [
    "# The finally statement in the try...except...finally always run, don't care meet break or continue statement\n",
    "a = 0\n",
    "b = 2\n",
    "\n",
    "while a <= 4:\n",
    "    a += 1\n",
    "    b -= 1\n",
    "    try:\n",
    "        a / b \n",
    "    except Exception as error:\n",
    "        print(f\"{a} - {b} Interupt with error: {error}\")\n",
    "        break \n",
    "    finally:\n",
    "        print(f\"{a} - {b} Always run in try...except statement\")\n",
    "    print(f\"{a} - {b} Main flow of while loop\")\n",
    "else:\n",
    "    print(f\"{a} - {b} While loop run without break statement\")"
   ]
  },
  {
   "cell_type": "code",
   "execution_count": null,
   "metadata": {},
   "outputs": [],
   "source": []
  }
 ],
 "metadata": {
  "kernelspec": {
   "display_name": "Python 3.7.1 64-bit",
   "language": "python",
   "name": "python3"
  },
  "language_info": {
   "codemirror_mode": {
    "name": "ipython",
    "version": 3
   },
   "file_extension": ".py",
   "mimetype": "text/x-python",
   "name": "python",
   "nbconvert_exporter": "python",
   "pygments_lexer": "ipython3",
   "version": "3.7.1"
  },
  "orig_nbformat": 4,
  "vscode": {
   "interpreter": {
    "hash": "1f73e32cfb8da317e41c24dd6b51c1285eb289f4dfb4c0816a38bbadfd6d6c88"
   }
  }
 },
 "nbformat": 4,
 "nbformat_minor": 2
}
