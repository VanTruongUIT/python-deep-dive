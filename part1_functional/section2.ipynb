{
 "cells": [
  {
   "cell_type": "code",
   "execution_count": null,
   "metadata": {},
   "outputs": [],
   "source": [
    "def func_5():\n",
    "    return func_6();\n",
    "\n",
    "\n",
    "def func_6():\n",
    "    print(\"running func_6\")\n",
    "    \n",
    "func_5()"
   ]
  },
  {
   "cell_type": "markdown",
   "metadata": {},
   "source": [
    "#### While loop"
   ]
  },
  {
   "cell_type": "code",
   "execution_count": 23,
   "metadata": {},
   "outputs": [
    {
     "ename": "KeyboardInterrupt",
     "evalue": "Interrupted by user",
     "output_type": "error",
     "traceback": [
      "\u001b[1;31m---------------------------------------------------------------------------\u001b[0m",
      "\u001b[1;31mKeyboardInterrupt\u001b[0m                         Traceback (most recent call last)",
      "\u001b[1;32m~\\AppData\\Local\\Temp\\ipykernel_24268\\3039868227.py\u001b[0m in \u001b[0;36m<module>\u001b[1;34m\u001b[0m\n\u001b[0;32m      4\u001b[0m \u001b[1;33m\u001b[0m\u001b[0m\n\u001b[0;32m      5\u001b[0m \u001b[1;32mwhile\u001b[0m \u001b[1;32mnot\u001b[0m\u001b[1;33m(\u001b[0m\u001b[0mlen\u001b[0m\u001b[1;33m(\u001b[0m\u001b[0mname\u001b[0m\u001b[1;33m)\u001b[0m \u001b[1;33m>=\u001b[0m \u001b[0mmin_length\u001b[0m \u001b[1;32mand\u001b[0m \u001b[0mname\u001b[0m\u001b[1;33m.\u001b[0m\u001b[0misprintable\u001b[0m\u001b[1;33m(\u001b[0m\u001b[1;33m)\u001b[0m \u001b[1;32mand\u001b[0m \u001b[0mname\u001b[0m\u001b[1;33m.\u001b[0m\u001b[0misalpha\u001b[0m\u001b[1;33m(\u001b[0m\u001b[1;33m)\u001b[0m\u001b[1;33m)\u001b[0m\u001b[1;33m:\u001b[0m\u001b[1;33m\u001b[0m\u001b[1;33m\u001b[0m\u001b[0m\n\u001b[1;32m----> 6\u001b[1;33m     \u001b[0mname\u001b[0m \u001b[1;33m=\u001b[0m \u001b[0minput\u001b[0m\u001b[1;33m(\u001b[0m\u001b[1;34m\"Please enter your name: \"\u001b[0m\u001b[1;33m)\u001b[0m\u001b[1;33m\u001b[0m\u001b[1;33m\u001b[0m\u001b[0m\n\u001b[0m\u001b[0;32m      7\u001b[0m \u001b[1;33m\u001b[0m\u001b[0m\n\u001b[0;32m      8\u001b[0m \u001b[0mprint\u001b[0m\u001b[1;33m(\u001b[0m\u001b[1;34mf\"hello {name}\"\u001b[0m\u001b[1;33m)\u001b[0m\u001b[1;33m\u001b[0m\u001b[1;33m\u001b[0m\u001b[0m\n",
      "\u001b[1;32mc:\\Users\\tvtruong\\AppData\\Local\\Programs\\Python\\Python37\\lib\\site-packages\\ipykernel\\kernelbase.py\u001b[0m in \u001b[0;36mraw_input\u001b[1;34m(self, prompt)\u001b[0m\n\u001b[0;32m   1179\u001b[0m             \u001b[0mself\u001b[0m\u001b[1;33m.\u001b[0m\u001b[0m_parent_ident\u001b[0m\u001b[1;33m[\u001b[0m\u001b[1;34m\"shell\"\u001b[0m\u001b[1;33m]\u001b[0m\u001b[1;33m,\u001b[0m\u001b[1;33m\u001b[0m\u001b[1;33m\u001b[0m\u001b[0m\n\u001b[0;32m   1180\u001b[0m             \u001b[0mself\u001b[0m\u001b[1;33m.\u001b[0m\u001b[0mget_parent\u001b[0m\u001b[1;33m(\u001b[0m\u001b[1;34m\"shell\"\u001b[0m\u001b[1;33m)\u001b[0m\u001b[1;33m,\u001b[0m\u001b[1;33m\u001b[0m\u001b[1;33m\u001b[0m\u001b[0m\n\u001b[1;32m-> 1181\u001b[1;33m             \u001b[0mpassword\u001b[0m\u001b[1;33m=\u001b[0m\u001b[1;32mFalse\u001b[0m\u001b[1;33m,\u001b[0m\u001b[1;33m\u001b[0m\u001b[1;33m\u001b[0m\u001b[0m\n\u001b[0m\u001b[0;32m   1182\u001b[0m         )\n\u001b[0;32m   1183\u001b[0m \u001b[1;33m\u001b[0m\u001b[0m\n",
      "\u001b[1;32mc:\\Users\\tvtruong\\AppData\\Local\\Programs\\Python\\Python37\\lib\\site-packages\\ipykernel\\kernelbase.py\u001b[0m in \u001b[0;36m_input_request\u001b[1;34m(self, prompt, ident, parent, password)\u001b[0m\n\u001b[0;32m   1217\u001b[0m             \u001b[1;32mexcept\u001b[0m \u001b[0mKeyboardInterrupt\u001b[0m\u001b[1;33m:\u001b[0m\u001b[1;33m\u001b[0m\u001b[1;33m\u001b[0m\u001b[0m\n\u001b[0;32m   1218\u001b[0m                 \u001b[1;31m# re-raise KeyboardInterrupt, to truncate traceback\u001b[0m\u001b[1;33m\u001b[0m\u001b[1;33m\u001b[0m\u001b[1;33m\u001b[0m\u001b[0m\n\u001b[1;32m-> 1219\u001b[1;33m                 \u001b[1;32mraise\u001b[0m \u001b[0mKeyboardInterrupt\u001b[0m\u001b[1;33m(\u001b[0m\u001b[1;34m\"Interrupted by user\"\u001b[0m\u001b[1;33m)\u001b[0m \u001b[1;32mfrom\u001b[0m \u001b[1;32mNone\u001b[0m\u001b[1;33m\u001b[0m\u001b[1;33m\u001b[0m\u001b[0m\n\u001b[0m\u001b[0;32m   1220\u001b[0m             \u001b[1;32mexcept\u001b[0m \u001b[0mException\u001b[0m\u001b[1;33m:\u001b[0m\u001b[1;33m\u001b[0m\u001b[1;33m\u001b[0m\u001b[0m\n\u001b[0;32m   1221\u001b[0m                 \u001b[0mself\u001b[0m\u001b[1;33m.\u001b[0m\u001b[0mlog\u001b[0m\u001b[1;33m.\u001b[0m\u001b[0mwarning\u001b[0m\u001b[1;33m(\u001b[0m\u001b[1;34m\"Invalid Message:\"\u001b[0m\u001b[1;33m,\u001b[0m \u001b[0mexc_info\u001b[0m\u001b[1;33m=\u001b[0m\u001b[1;32mTrue\u001b[0m\u001b[1;33m)\u001b[0m\u001b[1;33m\u001b[0m\u001b[1;33m\u001b[0m\u001b[0m\n",
      "\u001b[1;31mKeyboardInterrupt\u001b[0m: Interrupted by user"
     ]
    }
   ],
   "source": [
    "min_length = 2\n",
    "\n",
    "name = input(\"Please enter your name: \")\n",
    "\n",
    "while not(len(name) >= min_length and name.isprintable() and name.isalpha()):\n",
    "    name = input(\"Please enter your name: \")\n",
    "\n",
    "print(f\"hello {name}\")"
   ]
  },
  {
   "cell_type": "code",
   "execution_count": null,
   "metadata": {},
   "outputs": [],
   "source": [
    "# But we can see in the above snipet code -> we repeat your code `name = input(\"Please enter your name: \")`\n",
    "# Now we can refactor it\n",
    "min_length = 2\n",
    "\n",
    "while True:\n",
    "    name = input(\"Please enter your name: \")\n",
    "    if (len(name) >= min_length and name.isprintable() and name.isalpha()):\n",
    "        break \n",
    "print(f\"Hello {name}\")"
   ]
  },
  {
   "cell_type": "code",
   "execution_count": null,
   "metadata": {},
   "outputs": [],
   "source": [
    "# while with else clause\n",
    "#\n",
    "while True:\n",
    "    if False:\n",
    "        pass \n",
    "    else:\n",
    "        break \n",
    "    \n",
    "else:\n",
    "    # else run only the while run without with break statement.\n",
    "    pass\n",
    "\n",
    "\n",
    "# Example\n",
    "\n",
    "\n",
    "lst = [1, 3, 5, 6]\n",
    "idx = 0\n",
    "value = 10\n",
    "\n",
    "while idx < len(lst):\n",
    "    if lst[idx] == value:\n",
    "        break\n",
    "    idx += 1\n",
    "else:\n",
    "    lst.append(value)\n",
    "    \n",
    "print(lst)"
   ]
  },
  {
   "cell_type": "code",
   "execution_count": null,
   "metadata": {},
   "outputs": [],
   "source": [
    "# The finally statement in the try...except...finally always run, don't care meet break or continue statement\n",
    "a = 0\n",
    "b = 2\n",
    "\n",
    "while a <= 4:\n",
    "    a += 1\n",
    "    b -= 1\n",
    "    try:\n",
    "        a / b \n",
    "    except Exception as error:\n",
    "        print(f\"{a} - {b} Interupt with error: {error}\")\n",
    "        break \n",
    "    finally:\n",
    "        print(f\"{a} - {b} Always run in try...except statement\")\n",
    "    print(f\"{a} - {b} Main flow of while loop\")\n",
    "else:\n",
    "    print(f\"{a} - {b} While loop run without break statement\")"
   ]
  },
  {
   "cell_type": "markdown",
   "metadata": {},
   "source": [
    "### Class"
   ]
  },
  {
   "cell_type": "code",
   "execution_count": null,
   "metadata": {},
   "outputs": [],
   "source": [
    "class Rectangle:\n",
    "    def __init__(self, width, height) -> None:\n",
    "        self.width = width\n",
    "        self.height = height\n",
    "\n",
    "    def area(self):\n",
    "        return self.width * self.height\n",
    "\n",
    "    def __str__(self) -> str:\n",
    "        return f\"{self.__class__.__name__} with width: {self.width} and height: {self.height}\"    \n",
    "    \n",
    "    def __repr__(self) -> str:\n",
    "        return f\"Represent {self.__class__.__name__}\"\n",
    "    \n",
    "    def __eq__(self, __o: object) -> bool:\n",
    "        \"\"\"\n",
    "        This method will be used to compare one object of the class to other object in the same class\n",
    "\n",
    "        Args:\n",
    "            __o (object): another object of Rectangle\n",
    "\n",
    "        Returns:\n",
    "            bool: _description_\n",
    "        \"\"\"\n",
    "        return bool(self.width == __o.width and self.height == __o.height)\n",
    "r1 = Rectangle(2, 3)\n",
    "r2 = Rectangle(2, 3)\n",
    "r1 == r2\n"
   ]
  },
  {
   "cell_type": "code",
   "execution_count": null,
   "metadata": {},
   "outputs": [],
   "source": [
    "r1 == 100\n"
   ]
  },
  {
   "cell_type": "code",
   "execution_count": null,
   "metadata": {},
   "outputs": [],
   "source": [
    "class Rectangle:\n",
    "    def __init__(self, width, height) -> None:\n",
    "        self.width = width\n",
    "        self.height = height\n",
    "\n",
    "    def area(self):\n",
    "        return self.width * self.height\n",
    "\n",
    "    def __str__(self) -> str:\n",
    "        return f\"{self.__class__.__name__} with width: {self.width} and height: {self.height}\"    \n",
    "    \n",
    "    def __repr__(self) -> str:\n",
    "        return f\"Represent {self.__class__.__name__}\"\n",
    "    \n",
    "    def __eq__(self, __o: object) -> bool:\n",
    "        \"\"\"\n",
    "        This method will be used to compare one object of the class to other object in the same class\n",
    "\n",
    "        Args:\n",
    "            __o (object): another object of Rectangle\n",
    "\n",
    "        Returns:\n",
    "            bool: _description_\n",
    "        \"\"\"\n",
    "        # Why we don't use type(o) at here. Because if the object is the instance of the sub class of Ractange -> the condition will not be true\n",
    "        # So we use isinstance method -> it will used not for only class but also subclass\n",
    "        return bool(isinstance(__o, Rectangle) and self.width == __o.width and self.height == __o.height)\n",
    "\n",
    "    def __lt__(self, object):\n",
    "        if isinstance(object, Rectangle):\n",
    "            return self.area() < object.area()\n",
    "        else:\n",
    "            return NotImplemented\n",
    "r1 = Rectangle(2, 3)\n",
    "r2 = Rectangle(1, 3)\n",
    "r1 == r2\n",
    "r1 < 100"
   ]
  },
  {
   "cell_type": "code",
   "execution_count": null,
   "metadata": {},
   "outputs": [],
   "source": [
    "r1 < r2"
   ]
  },
  {
   "cell_type": "code",
   "execution_count": null,
   "metadata": {},
   "outputs": [],
   "source": [
    "r2 < r1"
   ]
  },
  {
   "cell_type": "code",
   "execution_count": null,
   "metadata": {},
   "outputs": [],
   "source": [
    "r2 > 100"
   ]
  },
  {
   "cell_type": "code",
   "execution_count": null,
   "metadata": {},
   "outputs": [],
   "source": [
    "class A(object):\n",
    "    def __init__(self, name) -> None:\n",
    "        self.name = name\n",
    "\n",
    "\n",
    "class B(A):\n",
    "    def __init__(self, name) -> None:\n",
    "        super().__init__(name)"
   ]
  },
  {
   "cell_type": "code",
   "execution_count": null,
   "metadata": {},
   "outputs": [],
   "source": [
    "a = A(name=\"Class A\")\n",
    "b = B(name=\"Class B\")"
   ]
  },
  {
   "cell_type": "code",
   "execution_count": 2,
   "metadata": {},
   "outputs": [
    {
     "data": {
      "text/plain": [
       "False"
      ]
     },
     "execution_count": 2,
     "metadata": {},
     "output_type": "execute_result"
    }
   ],
   "source": [
    "class Rectangle:\n",
    "    def __init__(self, width, height) -> None:\n",
    "        self._width = width\n",
    "        self._height = height\n",
    "\n",
    "    def area(self):\n",
    "        return self._width * self._height\n",
    "\n",
    "    def __str__(self) -> str:\n",
    "        return f\"{self.__class__.__name__} with _width: {self._width} and _height: {self._height}\"    \n",
    "    \n",
    "    def __repr__(self) -> str:\n",
    "        return f\"Represent {self.__class__.__name__}\"\n",
    "    \n",
    "    def __eq__(self, __o: object) -> bool:\n",
    "        \"\"\"\n",
    "        This method will be used to compare one object of the class to other object in the same class\n",
    "\n",
    "        Args:\n",
    "            __o (object): another object of Rectangle\n",
    "\n",
    "        Returns:\n",
    "            bool: _description_\n",
    "        \"\"\"\n",
    "        # Why we don't use type(o) at here. Because if the object is the instance of the sub class of Ractange -> the condition will not be true\n",
    "        # So we use isinstance method -> it will used not for only class but also subclass\n",
    "        return bool(isinstance(__o, Rectangle) and self._width == __o._width and self._height == __o._height)\n",
    "\n",
    "r1 = Rectangle(2, 3)\n",
    "r2 = Rectangle(1, 3)\n",
    "r1 == r2"
   ]
  },
  {
   "cell_type": "code",
   "execution_count": 4,
   "metadata": {},
   "outputs": [
    {
     "data": {
      "text/plain": [
       "3"
      ]
     },
     "execution_count": 4,
     "metadata": {},
     "output_type": "execute_result"
    }
   ],
   "source": [
    "r1._height"
   ]
  },
  {
   "cell_type": "code",
   "execution_count": null,
   "metadata": {},
   "outputs": [],
   "source": []
  }
 ],
 "metadata": {
  "kernelspec": {
   "display_name": "Python 3.7.1 64-bit",
   "language": "python",
   "name": "python3"
  },
  "language_info": {
   "codemirror_mode": {
    "name": "ipython",
    "version": 3
   },
   "file_extension": ".py",
   "mimetype": "text/x-python",
   "name": "python",
   "nbconvert_exporter": "python",
   "pygments_lexer": "ipython3",
   "version": "3.7.1"
  },
  "orig_nbformat": 4,
  "vscode": {
   "interpreter": {
    "hash": "1f73e32cfb8da317e41c24dd6b51c1285eb289f4dfb4c0816a38bbadfd6d6c88"
   }
  }
 },
 "nbformat": 4,
 "nbformat_minor": 2
}
