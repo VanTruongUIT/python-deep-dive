{
 "cells": [
  {
   "attachments": {},
   "cell_type": "markdown",
   "metadata": {},
   "source": [
    "# A simple function timer"
   ]
  },
  {
   "cell_type": "code",
   "execution_count": 1,
   "metadata": {},
   "outputs": [],
   "source": [
    "import time"
   ]
  },
  {
   "cell_type": "code",
   "execution_count": 2,
   "metadata": {},
   "outputs": [],
   "source": [
    "def time_it(fun, *args, **kwargs):\n",
    "    print(args, kwargs)"
   ]
  },
  {
   "cell_type": "code",
   "execution_count": 3,
   "metadata": {},
   "outputs": [
    {
     "name": "stdout",
     "output_type": "stream",
     "text": [
      "(1, 2, 3) {'sep': ' - ', 'end': ' ***'}\n"
     ]
    }
   ],
   "source": [
    "time_it(print, 1, 2, 3, sep=' - ', end=' ***')"
   ]
  },
  {
   "cell_type": "code",
   "execution_count": 4,
   "metadata": {},
   "outputs": [],
   "source": [
    "def time_it(func, *args, **kwargs):\n",
    "    # here both args and kwargs are the positional argument -> args is not the postional argument and kwargs is the key-word argument\n",
    "    # so how to implement it correctly as expected.\n",
    "    func(args, kwargs)"
   ]
  },
  {
   "cell_type": "code",
   "execution_count": 5,
   "metadata": {},
   "outputs": [
    {
     "name": "stdout",
     "output_type": "stream",
     "text": [
      "(1, 2, 3) {'sep': ' - ', 'end': '***'}\n"
     ]
    }
   ],
   "source": [
    "time_it(print, 1, 2, 3, sep=' - ', end='***')"
   ]
  },
  {
   "cell_type": "code",
   "execution_count": 12,
   "metadata": {},
   "outputs": [],
   "source": [
    "def time_it(func, *args, **kwargs):\n",
    "    # we will unpack parameter to pass as positional and key-word arguments.\n",
    "    func(*args, **kwargs)"
   ]
  },
  {
   "cell_type": "code",
   "execution_count": 13,
   "metadata": {},
   "outputs": [
    {
     "name": "stdout",
     "output_type": "stream",
     "text": [
      "1 - 2 - 3***"
     ]
    }
   ],
   "source": [
    "time_it(print, 1, 2, 3, sep=' - ', end='***')"
   ]
  },
  {
   "cell_type": "code",
   "execution_count": 14,
   "metadata": {},
   "outputs": [],
   "source": [
    "def time_it(func, *args, **kwargs):\n",
    "    # we will unpack parameter to pass as positional and key-word arguments.\n",
    "    func(args, kwargs)"
   ]
  },
  {
   "cell_type": "code",
   "execution_count": 15,
   "metadata": {},
   "outputs": [
    {
     "name": "stdout",
     "output_type": "stream",
     "text": [
      "((1, 2, 3), {'sep': ' - ', 'end': '***'}) {}\n"
     ]
    }
   ],
   "source": [
    "time_it(print, (1, 2, 3), {\"sep\": ' - ', \"end\": '***'})"
   ]
  },
  {
   "cell_type": "code",
   "execution_count": 16,
   "metadata": {},
   "outputs": [
    {
     "name": "stdout",
     "output_type": "stream",
     "text": [
      "(1, 2, 3) {'sep': ' - ', 'end': '***'}\n"
     ]
    }
   ],
   "source": [
    "\n",
    "time_it(print, 1, 2, 3, sep=' - ', end='***')"
   ]
  },
  {
   "cell_type": "code",
   "execution_count": 17,
   "metadata": {},
   "outputs": [],
   "source": [
    "def time_it(func, *args, rep=1, **kwargs):\n",
    "    # we will unpack parameter to pass as positional and key-word arguments.\n",
    "    for i in range(rep):\n",
    "        func(*args, **kwargs)"
   ]
  },
  {
   "cell_type": "code",
   "execution_count": 20,
   "metadata": {},
   "outputs": [
    {
     "name": "stdout",
     "output_type": "stream",
     "text": [
      "1 - 2 - 3***\n"
     ]
    }
   ],
   "source": [
    "time_it(print, 1, 2, 3, sep=' - ', end='***\\n', rep=1)"
   ]
  },
  {
   "cell_type": "code",
   "execution_count": 19,
   "metadata": {},
   "outputs": [
    {
     "name": "stdout",
     "output_type": "stream",
     "text": [
      "1 - 2 - 3***\n",
      "1 - 2 - 3***\n",
      "1 - 2 - 3***\n",
      "1 - 2 - 3***\n",
      "1 - 2 - 3***\n",
      "1 - 2 - 3***\n",
      "1 - 2 - 3***\n",
      "1 - 2 - 3***\n",
      "1 - 2 - 3***\n",
      "1 - 2 - 3***\n"
     ]
    }
   ],
   "source": [
    "time_it(print, 1, 2, 3, rep=10, sep=' - ', end='***\\n')"
   ]
  },
  {
   "cell_type": "code",
   "execution_count": 21,
   "metadata": {},
   "outputs": [
    {
     "name": "stdout",
     "output_type": "stream",
     "text": [
      "1 - 2 - 3***\n",
      "1 - 2 - 3***\n",
      "1 - 2 - 3***\n",
      "1 - 2 - 3***\n",
      "1 - 2 - 3***\n"
     ]
    }
   ],
   "source": [
    "time_it(print, 1, 2, 3, sep=' - ', rep=5, end='***\\n')\n"
   ]
  },
  {
   "cell_type": "code",
   "execution_count": 22,
   "metadata": {},
   "outputs": [],
   "source": [
    "def compute_powers_1(n, *, start=1, end):\n",
    "    # using a for loop\n",
    "    results = []\n",
    "    for i in range(start, end):\n",
    "        results.append(n**i)\n",
    "        \n",
    "    return results"
   ]
  },
  {
   "cell_type": "code",
   "execution_count": 23,
   "metadata": {},
   "outputs": [
    {
     "data": {
      "text/plain": [
       "[2, 4, 8, 16]"
      ]
     },
     "execution_count": 23,
     "metadata": {},
     "output_type": "execute_result"
    }
   ],
   "source": [
    "compute_powers_1(2, end=5)"
   ]
  },
  {
   "cell_type": "code",
   "execution_count": 25,
   "metadata": {},
   "outputs": [
    {
     "data": {
      "text/plain": [
       "[5, 25, 125, 625]"
      ]
     },
     "execution_count": 25,
     "metadata": {},
     "output_type": "execute_result"
    }
   ],
   "source": [
    "compute_powers_1(5, start=1, end=5)"
   ]
  },
  {
   "cell_type": "code",
   "execution_count": 26,
   "metadata": {},
   "outputs": [],
   "source": [
    "def compute_powers_2(n, *, start=1, end):\n",
    "    # using list comprehension\n",
    "    return [n**i for i in range(start, end)]"
   ]
  },
  {
   "cell_type": "code",
   "execution_count": 27,
   "metadata": {},
   "outputs": [
    {
     "data": {
      "text/plain": [
       "[5, 25, 125, 625]"
      ]
     },
     "execution_count": 27,
     "metadata": {},
     "output_type": "execute_result"
    }
   ],
   "source": [
    "compute_powers_2(5, start=1, end=5)"
   ]
  },
  {
   "cell_type": "code",
   "execution_count": 28,
   "metadata": {},
   "outputs": [],
   "source": [
    "def compute_powers_3(n, *, start=1, end):\n",
    "    # using generator expression\n",
    "    return (n**i for i in range(start, end))"
   ]
  },
  {
   "cell_type": "code",
   "execution_count": 30,
   "metadata": {},
   "outputs": [
    {
     "data": {
      "text/plain": [
       "[5, 25, 125, 625]"
      ]
     },
     "execution_count": 30,
     "metadata": {},
     "output_type": "execute_result"
    }
   ],
   "source": [
    "list(compute_powers_3(5, start=1, end=5))\n"
   ]
  },
  {
   "cell_type": "code",
   "execution_count": 1,
   "metadata": {},
   "outputs": [],
   "source": [
    "from datetime import datetime"
   ]
  },
  {
   "cell_type": "code",
   "execution_count": 8,
   "metadata": {},
   "outputs": [],
   "source": [
    "def log(msg, *, dt=datetime.utcnow()):\n",
    "    \"\"\"\n",
    "    When we run this block code -> the log function will be defined as well as the the dt paramter also is created to.\n",
    "    So, if you call the log() function without pass the argument value of dt. The dt would be the same with all the times call.\n",
    "    \n",
    "    If you want to to change the value of the dt argument, you can do it by two ways:\n",
    "        - specify the value of the dt aruments\n",
    "        - rerun the define the block code of log function.\n",
    "\n",
    "    Args:\n",
    "        msg (object): information what you want to print out to the console or stdout\n",
    "        dt (time, optional): the current time of utc. Defaults to datetime.utcnow().\n",
    "    \"\"\"\n",
    "    print(f\"{dt} - {msg}\")"
   ]
  },
  {
   "cell_type": "code",
   "execution_count": 3,
   "metadata": {},
   "outputs": [
    {
     "name": "stdout",
     "output_type": "stream",
     "text": [
      "2023-01-08 15:30:13.638525 - msg 1\n"
     ]
    }
   ],
   "source": [
    "log(\"msg 1\")"
   ]
  },
  {
   "cell_type": "code",
   "execution_count": 4,
   "metadata": {},
   "outputs": [
    {
     "name": "stdout",
     "output_type": "stream",
     "text": [
      "2023-01-08 15:30:13.638525 - msg 2\n"
     ]
    }
   ],
   "source": [
    "log(\"msg 2\")"
   ]
  },
  {
   "cell_type": "code",
   "execution_count": 5,
   "metadata": {},
   "outputs": [],
   "source": [
    "def log(msg, *, dt=None):\n",
    "    if not dt:\n",
    "        dt = datetime.utcnow()\n",
    "    print(f\"{dt} - {msg}\")"
   ]
  },
  {
   "cell_type": "code",
   "execution_count": 6,
   "metadata": {},
   "outputs": [
    {
     "name": "stdout",
     "output_type": "stream",
     "text": [
      "2023-01-08 15:33:38.802485 - msg 2\n"
     ]
    }
   ],
   "source": [
    "log(\"msg 2\")"
   ]
  },
  {
   "cell_type": "code",
   "execution_count": 7,
   "metadata": {},
   "outputs": [
    {
     "name": "stdout",
     "output_type": "stream",
     "text": [
      "2023-01-08 15:33:42.887515 - msg 3\n"
     ]
    }
   ],
   "source": [
    "log(\"msg 3\")"
   ]
  },
  {
   "cell_type": "code",
   "execution_count": 11,
   "metadata": {},
   "outputs": [],
   "source": [
    "my_list = [1, 2, 3]\n",
    "def func(a=my_list):\n",
    "    print(a)"
   ]
  },
  {
   "cell_type": "code",
   "execution_count": 12,
   "metadata": {},
   "outputs": [
    {
     "name": "stdout",
     "output_type": "stream",
     "text": [
      "[1, 2, 3]\n"
     ]
    }
   ],
   "source": [
    "func()"
   ]
  },
  {
   "cell_type": "code",
   "execution_count": 13,
   "metadata": {},
   "outputs": [
    {
     "name": "stdout",
     "output_type": "stream",
     "text": [
      "['a', 'b']\n"
     ]
    }
   ],
   "source": [
    "func(['a', 'b'])"
   ]
  },
  {
   "cell_type": "code",
   "execution_count": 14,
   "metadata": {},
   "outputs": [],
   "source": [
    "my_list.append(4)"
   ]
  },
  {
   "cell_type": "code",
   "execution_count": 15,
   "metadata": {},
   "outputs": [
    {
     "name": "stdout",
     "output_type": "stream",
     "text": [
      "[1, 2, 3, 4]\n"
     ]
    }
   ],
   "source": [
    "func()"
   ]
  },
  {
   "cell_type": "code",
   "execution_count": 16,
   "metadata": {},
   "outputs": [],
   "source": [
    "def add_item(name, quantity, unit, grocery_list):\n",
    "    grocery_list.append(f\"{name} ({quantity} {unit})\")\n",
    "    return grocery_list"
   ]
  },
  {
   "cell_type": "code",
   "execution_count": 23,
   "metadata": {},
   "outputs": [],
   "source": [
    "store1 = []\n",
    "store2 = []"
   ]
  },
  {
   "cell_type": "code",
   "execution_count": 24,
   "metadata": {},
   "outputs": [
    {
     "data": {
      "text/plain": [
       "['banana (10 units)', 'milk (20 units)']"
      ]
     },
     "execution_count": 24,
     "metadata": {},
     "output_type": "execute_result"
    }
   ],
   "source": [
    "add_item('banana', 10, \"units\", store1)\n",
    "add_item('milk', 20, \"units\", store1)"
   ]
  },
  {
   "cell_type": "code",
   "execution_count": 25,
   "metadata": {},
   "outputs": [
    {
     "name": "stdout",
     "output_type": "stream",
     "text": [
      "['banana (10 units)', 'milk (20 units)']\n"
     ]
    }
   ],
   "source": [
    "print(store1)"
   ]
  },
  {
   "cell_type": "code",
   "execution_count": 26,
   "metadata": {},
   "outputs": [
    {
     "data": {
      "text/plain": [
       "['python (1 medium-rare)']"
      ]
     },
     "execution_count": 26,
     "metadata": {},
     "output_type": "execute_result"
    }
   ],
   "source": [
    "add_item(\"python\", 1, \"medium-rare\", store2)"
   ]
  },
  {
   "cell_type": "code",
   "execution_count": 27,
   "metadata": {},
   "outputs": [],
   "source": [
    "def add_item(name, quantity, unit, grocery_list=[]):\n",
    "    grocery_list.append(f\"{name} ({quantity} {unit})\")\n",
    "    return grocery_list"
   ]
  },
  {
   "cell_type": "code",
   "execution_count": 34,
   "metadata": {},
   "outputs": [],
   "source": [
    "del store2\n",
    "del store1"
   ]
  },
  {
   "cell_type": "code",
   "execution_count": 29,
   "metadata": {},
   "outputs": [
    {
     "data": {
      "text/plain": [
       "['python (1 medium-rare)', 'banana (10 units)']"
      ]
     },
     "execution_count": 29,
     "metadata": {},
     "output_type": "execute_result"
    }
   ],
   "source": [
    "store1 = add_item(\"python\", 1, \"medium-rare\")\n",
    "add_item(\"banana\", 10, \"units\", store1)"
   ]
  },
  {
   "cell_type": "code",
   "execution_count": null,
   "metadata": {},
   "outputs": [],
   "source": []
  },
  {
   "cell_type": "code",
   "execution_count": 30,
   "metadata": {},
   "outputs": [],
   "source": [
    "store2 = add_item('milk', 2, 'liter')"
   ]
  },
  {
   "cell_type": "code",
   "execution_count": 31,
   "metadata": {},
   "outputs": [
    {
     "data": {
      "text/plain": [
       "['python (1 medium-rare)', 'banana (10 units)', 'milk (2 liter)']"
      ]
     },
     "execution_count": 31,
     "metadata": {},
     "output_type": "execute_result"
    }
   ],
   "source": [
    "store2"
   ]
  },
  {
   "cell_type": "code",
   "execution_count": 32,
   "metadata": {},
   "outputs": [
    {
     "data": {
      "text/plain": [
       "['python (1 medium-rare)', 'banana (10 units)', 'milk (2 liter)']"
      ]
     },
     "execution_count": 32,
     "metadata": {},
     "output_type": "execute_result"
    }
   ],
   "source": [
    "store1"
   ]
  },
  {
   "cell_type": "code",
   "execution_count": 33,
   "metadata": {},
   "outputs": [
    {
     "data": {
      "text/plain": [
       "True"
      ]
     },
     "execution_count": 33,
     "metadata": {},
     "output_type": "execute_result"
    }
   ],
   "source": [
    "store1 is store2"
   ]
  },
  {
   "cell_type": "code",
   "execution_count": 35,
   "metadata": {},
   "outputs": [],
   "source": [
    "def add_item(name, quantity, unit, grocery_list=None):\n",
    "    if not grocery_list:\n",
    "        grocery_list = []\n",
    "    grocery_list.append(f\"{name} ({quantity} {unit})\")\n",
    "    return grocery_list"
   ]
  },
  {
   "cell_type": "code",
   "execution_count": 36,
   "metadata": {},
   "outputs": [
    {
     "data": {
      "text/plain": [
       "['python (1 medium-rare)', 'banana (10 units)']"
      ]
     },
     "execution_count": 36,
     "metadata": {},
     "output_type": "execute_result"
    }
   ],
   "source": [
    "store1 = add_item(\"python\", 1, \"medium-rare\")\n",
    "add_item(\"banana\", 10, \"units\", store1)"
   ]
  },
  {
   "cell_type": "code",
   "execution_count": 37,
   "metadata": {},
   "outputs": [],
   "source": [
    "store2 = add_item('milk', 2, 'liter')"
   ]
  },
  {
   "cell_type": "code",
   "execution_count": 38,
   "metadata": {},
   "outputs": [
    {
     "data": {
      "text/plain": [
       "['python (1 medium-rare)', 'banana (10 units)']"
      ]
     },
     "execution_count": 38,
     "metadata": {},
     "output_type": "execute_result"
    }
   ],
   "source": [
    "store1"
   ]
  },
  {
   "cell_type": "code",
   "execution_count": 39,
   "metadata": {},
   "outputs": [
    {
     "data": {
      "text/plain": [
       "['milk (2 liter)']"
      ]
     },
     "execution_count": 39,
     "metadata": {},
     "output_type": "execute_result"
    }
   ],
   "source": [
    "store2"
   ]
  },
  {
   "cell_type": "code",
   "execution_count": 40,
   "metadata": {},
   "outputs": [
    {
     "data": {
      "text/plain": [
       "False"
      ]
     },
     "execution_count": 40,
     "metadata": {},
     "output_type": "execute_result"
    }
   ],
   "source": [
    "store1 is store2"
   ]
  },
  {
   "cell_type": "code",
   "execution_count": 43,
   "metadata": {},
   "outputs": [],
   "source": [
    "def factorial(n):\n",
    "    if n < 1:\n",
    "        return 1\n",
    "    else:\n",
    "        print(f\"calculating {n}!\")\n",
    "        return n * factorial(n - 1)"
   ]
  },
  {
   "cell_type": "code",
   "execution_count": 44,
   "metadata": {},
   "outputs": [
    {
     "name": "stdout",
     "output_type": "stream",
     "text": [
      "calculating 3!\n",
      "calculating 2!\n",
      "calculating 1!\n"
     ]
    },
    {
     "data": {
      "text/plain": [
       "6"
      ]
     },
     "execution_count": 44,
     "metadata": {},
     "output_type": "execute_result"
    }
   ],
   "source": [
    "factorial(3)"
   ]
  },
  {
   "cell_type": "code",
   "execution_count": 45,
   "metadata": {},
   "outputs": [],
   "source": [
    "def add_item(name, quantity, unit, grocery_list):\n",
    "    print(\"memory address of grocery_list\", hex(id(grocery_list)))\n",
    "    grocery_list.append(f\"{name} ({quantity} {unit})\")\n",
    "    return grocery_list\n"
   ]
  },
  {
   "cell_type": "code",
   "execution_count": 46,
   "metadata": {},
   "outputs": [],
   "source": [
    "store1 = []\n",
    "store2 = []"
   ]
  },
  {
   "cell_type": "code",
   "execution_count": 51,
   "metadata": {},
   "outputs": [
    {
     "name": "stdout",
     "output_type": "stream",
     "text": [
      "0x1e138d5b708\n"
     ]
    }
   ],
   "source": [
    "print(hex(id(store1)))"
   ]
  },
  {
   "cell_type": "code",
   "execution_count": 50,
   "metadata": {},
   "outputs": [
    {
     "name": "stdout",
     "output_type": "stream",
     "text": [
      "0x1e138befa08\n"
     ]
    }
   ],
   "source": [
    "print(hex(id(store2)))"
   ]
  },
  {
   "cell_type": "code",
   "execution_count": 47,
   "metadata": {},
   "outputs": [
    {
     "name": "stdout",
     "output_type": "stream",
     "text": [
      "memory address of grocery_list 0x1e138d5b708\n",
      "memory address of grocery_list 0x1e138d5b708\n"
     ]
    },
    {
     "data": {
      "text/plain": [
       "['banana (10 units)', 'milk (200 liter)']"
      ]
     },
     "execution_count": 47,
     "metadata": {},
     "output_type": "execute_result"
    }
   ],
   "source": [
    "add_item(\"banana\", 10, \"units\", store1)\n",
    "add_item(\"milk\", 200, \"liter\", store1)"
   ]
  },
  {
   "cell_type": "code",
   "execution_count": 48,
   "metadata": {},
   "outputs": [
    {
     "name": "stdout",
     "output_type": "stream",
     "text": [
      "['banana (10 units)', 'milk (200 liter)']\n"
     ]
    }
   ],
   "source": [
    "print(store1)"
   ]
  },
  {
   "cell_type": "code",
   "execution_count": 49,
   "metadata": {},
   "outputs": [
    {
     "name": "stdout",
     "output_type": "stream",
     "text": [
      "memory address of grocery_list 0x1e138befa08\n"
     ]
    },
    {
     "data": {
      "text/plain": [
       "['python (100 course)']"
      ]
     },
     "execution_count": 49,
     "metadata": {},
     "output_type": "execute_result"
    }
   ],
   "source": [
    "add_item(\"python\", 100, \"course\", store2)\n"
   ]
  },
  {
   "cell_type": "code",
   "execution_count": 69,
   "metadata": {},
   "outputs": [],
   "source": [
    "default_empty_grocery_list = []\n",
    "def add_item(name, quantity, unit, grocery_list=default_empty_grocery_list):\n",
    "    print(\"============= MEMORY ADDRESS =============\")\n",
    "    print(\"memory address of grocery_list\", hex(id(grocery_list)))\n",
    "    print(\"memory address of default_empty_grocery_list\", hex(id(default_empty_grocery_list)))\n",
    "    print(\"============= DATA =============\")\n",
    "    print(\"grocery_list\", grocery_list)\n",
    "    print(\"default_empty_grocery_list\", default_empty_grocery_list)\n",
    "    print(\"============= Before append data =============\")\n",
    "    print(default_empty_grocery_list is grocery_list)\n",
    "    grocery_list.append(f\"{name} ({quantity} {unit})\")\n",
    "    print(\"============= After append data =============\")\n",
    "    print(default_empty_grocery_list is grocery_list)\n",
    "    return grocery_list"
   ]
  },
  {
   "cell_type": "code",
   "execution_count": 70,
   "metadata": {},
   "outputs": [],
   "source": [
    "del store1"
   ]
  },
  {
   "cell_type": "code",
   "execution_count": 71,
   "metadata": {},
   "outputs": [
    {
     "name": "stdout",
     "output_type": "stream",
     "text": [
      "============= MEMORY ADDRESS =============\n",
      "memory address of grocery_list 0x1e1372049c8\n",
      "memory address of default_empty_grocery_list 0x1e1372049c8\n",
      "============= DATA =============\n",
      "grocery_list []\n",
      "default_empty_grocery_list []\n",
      "============= Before append data =============\n",
      "True\n",
      "============= After append data =============\n",
      "True\n"
     ]
    }
   ],
   "source": [
    "store1 = add_item(\"banana\", 10, \"units\")\n"
   ]
  },
  {
   "cell_type": "code",
   "execution_count": 72,
   "metadata": {},
   "outputs": [
    {
     "name": "stdout",
     "output_type": "stream",
     "text": [
      "============= MEMORY ADDRESS =============\n",
      "memory address of grocery_list 0x1e1372049c8\n",
      "memory address of default_empty_grocery_list 0x1e1372049c8\n",
      "============= DATA =============\n",
      "grocery_list ['banana (10 units)']\n",
      "default_empty_grocery_list ['banana (10 units)']\n",
      "============= Before append data =============\n",
      "True\n",
      "============= After append data =============\n",
      "True\n"
     ]
    },
    {
     "data": {
      "text/plain": [
       "['banana (10 units)', 'milk (1000 liter)']"
      ]
     },
     "execution_count": 72,
     "metadata": {},
     "output_type": "execute_result"
    }
   ],
   "source": [
    "add_item(\"milk\", 1000, \"liter\", store1)"
   ]
  },
  {
   "cell_type": "code",
   "execution_count": 73,
   "metadata": {},
   "outputs": [
    {
     "name": "stdout",
     "output_type": "stream",
     "text": [
      "0x1e1372049c8\n"
     ]
    }
   ],
   "source": [
    "print(hex(id(store1)))"
   ]
  },
  {
   "cell_type": "code",
   "execution_count": 74,
   "metadata": {},
   "outputs": [
    {
     "name": "stdout",
     "output_type": "stream",
     "text": [
      "0x1e1372049c8\n"
     ]
    }
   ],
   "source": [
    "print(hex(id(default_empty_grocery_list)))\n"
   ]
  },
  {
   "cell_type": "code",
   "execution_count": 75,
   "metadata": {},
   "outputs": [
    {
     "data": {
      "text/plain": [
       "True"
      ]
     },
     "execution_count": 75,
     "metadata": {},
     "output_type": "execute_result"
    }
   ],
   "source": [
    "store1 is default_empty_grocery_list"
   ]
  },
  {
   "cell_type": "code",
   "execution_count": 76,
   "metadata": {},
   "outputs": [
    {
     "name": "stdout",
     "output_type": "stream",
     "text": [
      "============= MEMORY ADDRESS =============\n",
      "memory address of grocery_list 0x1e1372049c8\n",
      "memory address of default_empty_grocery_list 0x1e1372049c8\n",
      "============= DATA =============\n",
      "grocery_list ['banana (10 units)', 'milk (1000 liter)']\n",
      "default_empty_grocery_list ['banana (10 units)', 'milk (1000 liter)']\n",
      "============= Before append data =============\n",
      "True\n",
      "============= After append data =============\n",
      "True\n"
     ]
    }
   ],
   "source": [
    "store2 = add_item(\"milk\", 1000, \"liter\")"
   ]
  },
  {
   "cell_type": "code",
   "execution_count": 77,
   "metadata": {},
   "outputs": [
    {
     "data": {
      "text/plain": [
       "True"
      ]
     },
     "execution_count": 77,
     "metadata": {},
     "output_type": "execute_result"
    }
   ],
   "source": [
    "store1 is store2"
   ]
  },
  {
   "cell_type": "code",
   "execution_count": 78,
   "metadata": {},
   "outputs": [
    {
     "name": "stdout",
     "output_type": "stream",
     "text": [
      "============= MEMORY ADDRESS =============\n",
      "memory address of grocery_list 0x1e137203908\n",
      "memory address of default_empty_grocery_list 0x1e1372049c8\n",
      "============= DATA =============\n",
      "grocery_list []\n",
      "default_empty_grocery_list ['banana (10 units)', 'milk (1000 liter)', 'milk (1000 liter)']\n",
      "============= Before append data =============\n",
      "False\n",
      "============= After append data =============\n",
      "False\n"
     ]
    },
    {
     "data": {
      "text/plain": [
       "['rust (1 programing language)']"
      ]
     },
     "execution_count": 78,
     "metadata": {},
     "output_type": "execute_result"
    }
   ],
   "source": [
    "add_item(\"rust\", 1, \"programing language\", [])"
   ]
  },
  {
   "cell_type": "code",
   "execution_count": 79,
   "metadata": {},
   "outputs": [],
   "source": [
    "default_empty_grocery_list = None # or any immutable object\n",
    "def add_item(name, quantity, unit, grocery_list=default_empty_grocery_list):\n",
    "    print(\"============= MEMORY ADDRESS =============\")\n",
    "    print(\"memory address of grocery_list\", hex(id(grocery_list)))\n",
    "    print(\"memory address of default_empty_grocery_list\", hex(id(default_empty_grocery_list)))\n",
    "    print(\"============= DATA =============\")\n",
    "    print(\"grocery_list\", grocery_list)\n",
    "    print(\"default_empty_grocery_list\", default_empty_grocery_list)\n",
    "    print(\"============= Before append data =============\")\n",
    "    print(default_empty_grocery_list is grocery_list)\n",
    "    if grocery_list is None:\n",
    "        grocery_list = []\n",
    "    grocery_list.append(f\"{name} ({quantity} {unit})\")\n",
    "    print(\"============= After append data =============\")\n",
    "    print(default_empty_grocery_list is grocery_list)\n",
    "    print(\"grocery_list\", grocery_list)\n",
    "    print(\"default_empty_grocery_list\", default_empty_grocery_list)\n",
    "    return grocery_list"
   ]
  },
  {
   "cell_type": "code",
   "execution_count": 80,
   "metadata": {},
   "outputs": [],
   "source": [
    "del store1\n",
    "del store2"
   ]
  },
  {
   "cell_type": "code",
   "execution_count": 81,
   "metadata": {},
   "outputs": [
    {
     "name": "stdout",
     "output_type": "stream",
     "text": [
      "============= MEMORY ADDRESS =============\n",
      "memory address of grocery_list 0x7ff91f3b4ce0\n",
      "memory address of default_empty_grocery_list 0x7ff91f3b4ce0\n",
      "============= DATA =============\n",
      "grocery_list None\n",
      "default_empty_grocery_list None\n",
      "============= Before append data =============\n",
      "True\n",
      "============= After append data =============\n",
      "False\n",
      "grocery_list ['banana (10 units)']\n",
      "default_empty_grocery_list None\n"
     ]
    }
   ],
   "source": [
    "store1 = add_item(\"banana\", 10, \"units\")"
   ]
  },
  {
   "cell_type": "code",
   "execution_count": 82,
   "metadata": {},
   "outputs": [
    {
     "name": "stdout",
     "output_type": "stream",
     "text": [
      "============= MEMORY ADDRESS =============\n",
      "memory address of grocery_list 0x1e138d36388\n",
      "memory address of default_empty_grocery_list 0x7ff91f3b4ce0\n",
      "============= DATA =============\n",
      "grocery_list ['banana (10 units)']\n",
      "default_empty_grocery_list None\n",
      "============= Before append data =============\n",
      "False\n",
      "============= After append data =============\n",
      "False\n",
      "grocery_list ['banana (10 units)', 'banana (10 units)']\n",
      "default_empty_grocery_list None\n"
     ]
    },
    {
     "data": {
      "text/plain": [
       "['banana (10 units)', 'banana (10 units)']"
      ]
     },
     "execution_count": 82,
     "metadata": {},
     "output_type": "execute_result"
    }
   ],
   "source": [
    "add_item(\"banana\", 10, \"units\", store1)"
   ]
  },
  {
   "cell_type": "code",
   "execution_count": 83,
   "metadata": {},
   "outputs": [
    {
     "name": "stdout",
     "output_type": "stream",
     "text": [
      "============= MEMORY ADDRESS =============\n",
      "memory address of grocery_list 0x7ff91f3b4ce0\n",
      "memory address of default_empty_grocery_list 0x7ff91f3b4ce0\n",
      "============= DATA =============\n",
      "grocery_list None\n",
      "default_empty_grocery_list None\n",
      "============= Before append data =============\n",
      "True\n",
      "============= After append data =============\n",
      "False\n",
      "grocery_list ['banana (10 units)']\n",
      "default_empty_grocery_list None\n"
     ]
    }
   ],
   "source": [
    "store2 = add_item(\"banana\", 10, \"units\")\n"
   ]
  },
  {
   "cell_type": "code",
   "execution_count": 84,
   "metadata": {},
   "outputs": [
    {
     "data": {
      "text/plain": [
       "False"
      ]
     },
     "execution_count": 84,
     "metadata": {},
     "output_type": "execute_result"
    }
   ],
   "source": [
    "store1 is store2"
   ]
  },
  {
   "cell_type": "code",
   "execution_count": null,
   "metadata": {},
   "outputs": [],
   "source": [
    "# Alway do not use the mutable object for the default value of parameter"
   ]
  },
  {
   "cell_type": "code",
   "execution_count": 85,
   "metadata": {},
   "outputs": [],
   "source": [
    "def calculate_factorial(n):\n",
    "    if n < 1:\n",
    "        return 1\n",
    "    else:\n",
    "        print(f\"Calculating {n}!\")\n",
    "        return n * calculate_factorial(n-1)"
   ]
  },
  {
   "cell_type": "code",
   "execution_count": 86,
   "metadata": {},
   "outputs": [
    {
     "name": "stdout",
     "output_type": "stream",
     "text": [
      "Calculating 10!\n",
      "Calculating 9!\n",
      "Calculating 8!\n",
      "Calculating 7!\n",
      "Calculating 6!\n",
      "Calculating 5!\n",
      "Calculating 4!\n",
      "Calculating 3!\n",
      "Calculating 2!\n",
      "Calculating 1!\n"
     ]
    },
    {
     "data": {
      "text/plain": [
       "3628800"
      ]
     },
     "execution_count": 86,
     "metadata": {},
     "output_type": "execute_result"
    }
   ],
   "source": [
    "calculate_factorial(10)"
   ]
  },
  {
   "cell_type": "code",
   "execution_count": 87,
   "metadata": {},
   "outputs": [
    {
     "name": "stdout",
     "output_type": "stream",
     "text": [
      "Calculating 10!\n",
      "Calculating 9!\n",
      "Calculating 8!\n",
      "Calculating 7!\n",
      "Calculating 6!\n",
      "Calculating 5!\n",
      "Calculating 4!\n",
      "Calculating 3!\n",
      "Calculating 2!\n",
      "Calculating 1!\n"
     ]
    },
    {
     "data": {
      "text/plain": [
       "3628800"
      ]
     },
     "execution_count": 87,
     "metadata": {},
     "output_type": "execute_result"
    }
   ],
   "source": [
    "calculate_factorial(10)"
   ]
  },
  {
   "cell_type": "code",
   "execution_count": 92,
   "metadata": {},
   "outputs": [],
   "source": [
    "\n",
    "cache = {}\n",
    "def calculate_factorial(n, *, cache):\n",
    "    if n < 1:\n",
    "        return 1\n",
    "    elif n in cache:\n",
    "        return cache[n]\n",
    "    else:\n",
    "        print(f\"Calculating {n}!\")\n",
    "        result = n * calculate_factorial(n-1, cache=cache)\n",
    "        cache[n] = result\n",
    "        \n",
    "        return result"
   ]
  },
  {
   "cell_type": "code",
   "execution_count": 88,
   "metadata": {},
   "outputs": [],
   "source": [
    "x = 10000"
   ]
  },
  {
   "cell_type": "code",
   "execution_count": 91,
   "metadata": {},
   "outputs": [
    {
     "data": {
      "text/plain": [
       "'0x1e1371c2cd0'"
      ]
     },
     "execution_count": 91,
     "metadata": {},
     "output_type": "execute_result"
    }
   ],
   "source": [
    "hex(id(x))"
   ]
  },
  {
   "cell_type": "code",
   "execution_count": 93,
   "metadata": {},
   "outputs": [
    {
     "name": "stdout",
     "output_type": "stream",
     "text": [
      "Calculating 3!\n",
      "Calculating 2!\n",
      "Calculating 1!\n"
     ]
    },
    {
     "data": {
      "text/plain": [
       "6"
      ]
     },
     "execution_count": 93,
     "metadata": {},
     "output_type": "execute_result"
    }
   ],
   "source": [
    "calculate_factorial(3, cache=cache)"
   ]
  },
  {
   "cell_type": "code",
   "execution_count": 94,
   "metadata": {},
   "outputs": [
    {
     "name": "stdout",
     "output_type": "stream",
     "text": [
      "Calculating 4!\n"
     ]
    },
    {
     "data": {
      "text/plain": [
       "24"
      ]
     },
     "execution_count": 94,
     "metadata": {},
     "output_type": "execute_result"
    }
   ],
   "source": [
    "calculate_factorial(4, cache=cache)"
   ]
  },
  {
   "cell_type": "code",
   "execution_count": 95,
   "metadata": {},
   "outputs": [
    {
     "name": "stdout",
     "output_type": "stream",
     "text": [
      "Calculating 10!\n",
      "Calculating 9!\n",
      "Calculating 8!\n",
      "Calculating 7!\n",
      "Calculating 6!\n",
      "Calculating 5!\n"
     ]
    },
    {
     "data": {
      "text/plain": [
       "3628800"
      ]
     },
     "execution_count": 95,
     "metadata": {},
     "output_type": "execute_result"
    }
   ],
   "source": [
    "calculate_factorial(10, cache=cache)"
   ]
  },
  {
   "cell_type": "code",
   "execution_count": 96,
   "metadata": {},
   "outputs": [
    {
     "data": {
      "text/plain": [
       "6"
      ]
     },
     "execution_count": 96,
     "metadata": {},
     "output_type": "execute_result"
    }
   ],
   "source": [
    "calculate_factorial(3, cache=cache)"
   ]
  },
  {
   "cell_type": "code",
   "execution_count": null,
   "metadata": {},
   "outputs": [],
   "source": []
  }
 ],
 "metadata": {
  "kernelspec": {
   "display_name": "Python 3",
   "language": "python",
   "name": "python3"
  },
  "language_info": {
   "codemirror_mode": {
    "name": "ipython",
    "version": 3
   },
   "file_extension": ".py",
   "mimetype": "text/x-python",
   "name": "python",
   "nbconvert_exporter": "python",
   "pygments_lexer": "ipython3",
   "version": "3.7.1"
  },
  "orig_nbformat": 4,
  "vscode": {
   "interpreter": {
    "hash": "1f73e32cfb8da317e41c24dd6b51c1285eb289f4dfb4c0816a38bbadfd6d6c88"
   }
  }
 },
 "nbformat": 4,
 "nbformat_minor": 2
}
